{
 "cells": [
  {
   "cell_type": "markdown",
   "metadata": {
    "id": "1rvqCAAkR3N5"
   },
   "source": [
    "# Ejercicios de la Clase 1 \"Vectores\"\n"
   ]
  },
  {
   "cell_type": "markdown",
   "metadata": {
    "id": "tIPBq-XweaYC"
   },
   "source": [
    "## Ejercicio 1: MyPersonality"
   ]
  },
  {
   "cell_type": "markdown",
   "metadata": {
    "id": "1Wrsnq91dug0"
   },
   "source": [
    "El dataset MyPersonality generó mucha [controversia](https://www.businessinsider.com/facebook-investigates-mypersonality-app-in-new-data-scare-2018-5), ya que incluye información sensible de millones de personas y no siempre fue recolectada con consentimiento. Consiste en información del perfil y de actualizaciones de la red social Facebook, apareada con puntajes de rasgos de personalidad calculadas vía un cuestionario en la app. \n",
    "\n",
    "La prueba Big5 (Costa y Mac Crae 1985, Goldberg et al. 2006) es una taxonomía o clasificación de rasgos de personalidad que analiza la composición de cinco dimensiones de personalidad en su sentido más amplio. Esta disertación se publicó en el Psychological Review, 41, 1-32. Los cinco factores son:\n",
    "\n",
    "- Apertura a la experiencia (openness to experience): inventivo/curioso vs. consistente/cauteloso \n",
    "- Escrupulosidad (conscientiousness): eficiente/organizado vs. extravagante/descuidado \n",
    "- Extraversión: sociable/enérgico vs. solitario/reservado  \n",
    "- Amabilidad (agreeableness): amigable/compasivo vs. desafiante/insensible \n",
    "- Neuroticismo: susceptible/nervioso vs. resistente/seguro"
   ]
  },
  {
   "cell_type": "markdown",
   "metadata": {},
   "source": [
    "La siguiente celda carga el dataset y lo desordena."
   ]
  },
  {
   "cell_type": "code",
   "execution_count": 1,
   "metadata": {
    "id": "2LAYxcZGeYdN"
   },
   "outputs": [],
   "source": [
    "import pandas as pd\n",
    "\n",
    "import plotly.express as px\n",
    "from scipy.stats import pearsonr\n",
    "import seaborn as sns\n",
    "import numpy as np"
   ]
  },
  {
   "cell_type": "code",
   "execution_count": 2,
   "metadata": {
    "id": "jlo9DZIydK0G"
   },
   "outputs": [
    {
     "data": {
      "text/html": [
       "<div>\n",
       "<style scoped>\n",
       "    .dataframe tbody tr th:only-of-type {\n",
       "        vertical-align: middle;\n",
       "    }\n",
       "\n",
       "    .dataframe tbody tr th {\n",
       "        vertical-align: top;\n",
       "    }\n",
       "\n",
       "    .dataframe thead th {\n",
       "        text-align: right;\n",
       "    }\n",
       "</style>\n",
       "<table border=\"1\" class=\"dataframe\">\n",
       "  <thead>\n",
       "    <tr style=\"text-align: right;\">\n",
       "      <th></th>\n",
       "      <th>#AUTHID</th>\n",
       "      <th>STATUS</th>\n",
       "      <th>sEXT</th>\n",
       "      <th>sNEU</th>\n",
       "      <th>sAGR</th>\n",
       "      <th>sCON</th>\n",
       "      <th>sOPN</th>\n",
       "      <th>cEXT</th>\n",
       "      <th>cNEU</th>\n",
       "      <th>cAGR</th>\n",
       "      <th>cCON</th>\n",
       "      <th>cOPN</th>\n",
       "      <th>DATE</th>\n",
       "      <th>NETWORKSIZE</th>\n",
       "      <th>BETWEENNESS</th>\n",
       "      <th>NBETWEENNESS</th>\n",
       "      <th>DENSITY</th>\n",
       "      <th>BROKERAGE</th>\n",
       "      <th>NBROKERAGE</th>\n",
       "      <th>TRANSITIVITY</th>\n",
       "    </tr>\n",
       "  </thead>\n",
       "  <tbody>\n",
       "    <tr>\n",
       "      <th>0</th>\n",
       "      <td>810c70fdd8c82cb4e0afc1e8cc62759a</td>\n",
       "      <td>*PROPNAME* just started working on his first M...</td>\n",
       "      <td>3.60</td>\n",
       "      <td>1.50</td>\n",
       "      <td>3.45</td>\n",
       "      <td>2.90</td>\n",
       "      <td>4.35</td>\n",
       "      <td>y</td>\n",
       "      <td>n</td>\n",
       "      <td>n</td>\n",
       "      <td>n</td>\n",
       "      <td>y</td>\n",
       "      <td>12/09/09 06:09 AM</td>\n",
       "      <td>644.0</td>\n",
       "      <td>203058.0</td>\n",
       "      <td>98.38</td>\n",
       "      <td>0.01</td>\n",
       "      <td>204908.0</td>\n",
       "      <td>0.50</td>\n",
       "      <td>0.05</td>\n",
       "    </tr>\n",
       "    <tr>\n",
       "      <th>1</th>\n",
       "      <td>e4a512374eee079d2b8acc2ce69990d5</td>\n",
       "      <td>Some movies plan piss me off. http:////www.exa...</td>\n",
       "      <td>5.00</td>\n",
       "      <td>2.75</td>\n",
       "      <td>4.50</td>\n",
       "      <td>3.00</td>\n",
       "      <td>4.25</td>\n",
       "      <td>y</td>\n",
       "      <td>n</td>\n",
       "      <td>y</td>\n",
       "      <td>n</td>\n",
       "      <td>y</td>\n",
       "      <td>01/14/10 04:47 AM</td>\n",
       "      <td>326.0</td>\n",
       "      <td>50112.9</td>\n",
       "      <td>95.18</td>\n",
       "      <td>0.02</td>\n",
       "      <td>51706.0</td>\n",
       "      <td>0.49</td>\n",
       "      <td>0.11</td>\n",
       "    </tr>\n",
       "    <tr>\n",
       "      <th>2</th>\n",
       "      <td>527ed53d2ba3a3bc417b8402d5b2f556</td>\n",
       "      <td>is at the park.</td>\n",
       "      <td>3.35</td>\n",
       "      <td>2.75</td>\n",
       "      <td>2.85</td>\n",
       "      <td>3.10</td>\n",
       "      <td>4.15</td>\n",
       "      <td>n</td>\n",
       "      <td>n</td>\n",
       "      <td>n</td>\n",
       "      <td>n</td>\n",
       "      <td>y</td>\n",
       "      <td>07/24/09 11:11 PM</td>\n",
       "      <td>789.0</td>\n",
       "      <td>303058.0</td>\n",
       "      <td>97.74</td>\n",
       "      <td>0.01</td>\n",
       "      <td>307565.0</td>\n",
       "      <td>0.50</td>\n",
       "      <td>0.07</td>\n",
       "    </tr>\n",
       "    <tr>\n",
       "      <th>3</th>\n",
       "      <td>f2026b8cb48aff9af31577ecbfda5c38</td>\n",
       "      <td>is hiding out.</td>\n",
       "      <td>2.75</td>\n",
       "      <td>2.50</td>\n",
       "      <td>4.00</td>\n",
       "      <td>3.00</td>\n",
       "      <td>4.75</td>\n",
       "      <td>n</td>\n",
       "      <td>n</td>\n",
       "      <td>y</td>\n",
       "      <td>n</td>\n",
       "      <td>y</td>\n",
       "      <td>10/14/09 08:49 PM</td>\n",
       "      <td>731.0</td>\n",
       "      <td>264627.0</td>\n",
       "      <td>99.45</td>\n",
       "      <td>0.01</td>\n",
       "      <td>265324.0</td>\n",
       "      <td>0.50</td>\n",
       "      <td>0.02</td>\n",
       "    </tr>\n",
       "    <tr>\n",
       "      <th>4</th>\n",
       "      <td>03133a828cd0cf52e3752813ce5d818f</td>\n",
       "      <td>Feels aweful right now. Why do you get sick li...</td>\n",
       "      <td>3.84</td>\n",
       "      <td>3.55</td>\n",
       "      <td>2.85</td>\n",
       "      <td>4.32</td>\n",
       "      <td>3.45</td>\n",
       "      <td>y</td>\n",
       "      <td>y</td>\n",
       "      <td>n</td>\n",
       "      <td>y</td>\n",
       "      <td>n</td>\n",
       "      <td>11/15/09 06:12 PM</td>\n",
       "      <td>584.0</td>\n",
       "      <td>164031.0</td>\n",
       "      <td>96.69</td>\n",
       "      <td>0.02</td>\n",
       "      <td>167499.0</td>\n",
       "      <td>0.49</td>\n",
       "      <td>0.12</td>\n",
       "    </tr>\n",
       "  </tbody>\n",
       "</table>\n",
       "</div>"
      ],
      "text/plain": [
       "                            #AUTHID  \\\n",
       "0  810c70fdd8c82cb4e0afc1e8cc62759a   \n",
       "1  e4a512374eee079d2b8acc2ce69990d5   \n",
       "2  527ed53d2ba3a3bc417b8402d5b2f556   \n",
       "3  f2026b8cb48aff9af31577ecbfda5c38   \n",
       "4  03133a828cd0cf52e3752813ce5d818f   \n",
       "\n",
       "                                              STATUS  sEXT  sNEU  sAGR  sCON  \\\n",
       "0  *PROPNAME* just started working on his first M...  3.60  1.50  3.45  2.90   \n",
       "1  Some movies plan piss me off. http:////www.exa...  5.00  2.75  4.50  3.00   \n",
       "2                                    is at the park.  3.35  2.75  2.85  3.10   \n",
       "3                                     is hiding out.  2.75  2.50  4.00  3.00   \n",
       "4  Feels aweful right now. Why do you get sick li...  3.84  3.55  2.85  4.32   \n",
       "\n",
       "   sOPN cEXT cNEU cAGR cCON cOPN               DATE  NETWORKSIZE  BETWEENNESS  \\\n",
       "0  4.35    y    n    n    n    y  12/09/09 06:09 AM        644.0     203058.0   \n",
       "1  4.25    y    n    y    n    y  01/14/10 04:47 AM        326.0      50112.9   \n",
       "2  4.15    n    n    n    n    y  07/24/09 11:11 PM        789.0     303058.0   \n",
       "3  4.75    n    n    y    n    y  10/14/09 08:49 PM        731.0     264627.0   \n",
       "4  3.45    y    y    n    y    n  11/15/09 06:12 PM        584.0     164031.0   \n",
       "\n",
       "   NBETWEENNESS  DENSITY  BROKERAGE  NBROKERAGE  TRANSITIVITY  \n",
       "0         98.38     0.01   204908.0        0.50          0.05  \n",
       "1         95.18     0.02    51706.0        0.49          0.11  \n",
       "2         97.74     0.01   307565.0        0.50          0.07  \n",
       "3         99.45     0.01   265324.0        0.50          0.02  \n",
       "4         96.69     0.02   167499.0        0.49          0.12  "
      ]
     },
     "execution_count": 2,
     "metadata": {},
     "output_type": "execute_result"
    }
   ],
   "source": [
    "df = pd.read_csv('https://unket.s3-sa-east-1.amazonaws.com/data/mypersonality.csv') #ok_cupid_data.csv\n",
    "df = df.sample(frac=1).reset_index(drop=True)\n",
    "df.head()"
   ]
  },
  {
   "cell_type": "markdown",
   "metadata": {},
   "source": [
    "Las columnas sOPN, sCON, sEXT, sAGR y sNEU contienen los valores de las 5 componentes de la personalidad de cada usuario. Almacene los datos de personalidad de los 5 primeros ejemplos del dataset en 5 vectores numpy."
   ]
  },
  {
   "cell_type": "code",
   "execution_count": 3,
   "metadata": {
    "colab": {
     "base_uri": "https://localhost:8080/"
    },
    "id": "T2NXopAXulZp",
    "outputId": "61bd8803-ca40-446a-8f66-21a7e8528ef3"
   },
   "outputs": [],
   "source": [
    "v0 = np.array(df.loc[0,['sOPN', 'sCON', 'sEXT', 'sAGR', 'sNEU']])\n",
    "v1 = np.array(df.loc[1,['sOPN', 'sCON', 'sEXT', 'sAGR', 'sNEU']])\n",
    "v2 = np.array(df.loc[2,['sOPN', 'sCON', 'sEXT', 'sAGR', 'sNEU']])\n",
    "v3 = np.array(df.loc[3,['sOPN', 'sCON', 'sEXT', 'sAGR', 'sNEU']])\n",
    "v4 = np.array(df.loc[4,['sOPN', 'sCON', 'sEXT', 'sAGR', 'sNEU']])"
   ]
  },
  {
   "cell_type": "markdown",
   "metadata": {},
   "source": [
    "Ahora encontrá un vector que describa a la personalidad promedio dentro de las 5 muestras que extrajimos del dataset."
   ]
  },
  {
   "cell_type": "code",
   "execution_count": 7,
   "metadata": {
    "id": "duGAkCpE9Bux"
   },
   "outputs": [
    {
     "name": "stdout",
     "output_type": "stream",
     "text": [
      "[4.2299999999999995 3.224 3.758 3.65 2.3600000000000003]\n"
     ]
    }
   ],
   "source": [
    "promedio = v0 +v1 +v2 +v3 +v4\n",
    "promedio = promedio/5\n",
    "print(promedio)\n"
   ]
  },
  {
   "cell_type": "markdown",
   "metadata": {},
   "source": [
    "Podemos establecer qué tan parecidas son la personalidades en función del ángulo entre los vectores. Mientras menor sea el ángulo más parecida será la dirección de los vectores y también la personalidad de las personas a las que representan.\n",
    "Establecé cuales dos personas son más parecidas dentro de la muestra de 5 personas que extrajimos del dataset."
   ]
  },
  {
   "cell_type": "code",
   "execution_count": 8,
   "metadata": {},
   "outputs": [],
   "source": [
    "import numpy.linalg as LA\n",
    "def vector_angle(u, v):\n",
    "    cos_theta = u.dot(v) / LA.norm(u) / LA.norm(v)\n",
    "    return np.arccos(np.clip(cos_theta, -1, 1))"
   ]
  },
  {
   "cell_type": "code",
   "execution_count": 9,
   "metadata": {},
   "outputs": [
    {
     "name": "stdout",
     "output_type": "stream",
     "text": [
      "Los vectores más parecidos son: [4.35 2.9 3.6 3.45 1.5] y [4.25 3.0 5.0 4.5 2.75] con un ángulo de 10.52 grados\n"
     ]
    }
   ],
   "source": [
    "import math\n",
    "vectores = [v0,v1,v2,v3,v4]\n",
    "min_angle = 180\n",
    "similar_vectors = []\n",
    "for v1 in vectores:\n",
    "    for v2 in vectores:\n",
    "        if not (v1 == v2).all():\n",
    "            angle = vector_angle(v1, v2)\n",
    "            if angle < min_angle:\n",
    "                min_angle = angle\n",
    "                similar_vectors.clear()\n",
    "                similar_vectors.append(v1)\n",
    "                similar_vectors.append(v2)\n",
    "print(\"Los vectores más parecidos son:\", similar_vectors[0], \"y\", similar_vectors[1],\n",
    "      \"con un ángulo de\", round(math.degrees(min_angle),2), \"grados\")\n",
    "                \n",
    "        "
   ]
  }
 ],
 "metadata": {
  "colab": {
   "collapsed_sections": [],
   "name": "Álgebra Lineal.pynb",
   "provenance": []
  },
  "kernelspec": {
   "display_name": "Python 3",
   "language": "python",
   "name": "python3"
  },
  "language_info": {
   "codemirror_mode": {
    "name": "ipython",
    "version": 3
   },
   "file_extension": ".py",
   "mimetype": "text/x-python",
   "name": "python",
   "nbconvert_exporter": "python",
   "pygments_lexer": "ipython3",
   "version": "3.8.8"
  }
 },
 "nbformat": 4,
 "nbformat_minor": 1
}
