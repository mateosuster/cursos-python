{
 "cells": [
  {
   "cell_type": "markdown",
   "metadata": {
    "id": "niH0lx6-S5v_"
   },
   "source": [
    "# Vectores\n",
    "## Definición\n",
    "Un vector es una cantidad definida por una magnitud y una dirección. Por ejemplo, la velocidad de un cohete es un vector tridimensional: su magnitud es la velocidad del cohete y su dirección es (con suerte) hacia arriba. Un vector se puede representar mediante una serie de números llamados *escalares*. Cada escalar corresponde a la magnitud del vector con respecto a cada dimensión.\n",
    "\n",
    "Por ejemplo, supongamos que el cohete sube con un ligero ángulo: tiene una velocidad vertical de 5000 m/s, y también una ligera velocidad hacia el este de 10 m/s, y una ligera velocidad hacia el norte de 50 m/s. s. La velocidad del cohete se puede representar mediante el siguiente vector:\n",
    "\n",
    "**velocidad** \n",
    "$= \\begin{pmatrix}\n",
    "10\\\\\n",
    "50\\\\\n",
    "5000\n",
    "\\end{pmatrix}$\n",
    "\n",
    "Nota: por convención, los vectores generalmente se presentan en forma de columnas. Además, los nombres de los vectores suelen estar en minúsculas para distinguirlos de las matrices (de las que hablaremos más adelante) y en negrita (cuando sea posible) para distinguirlos de valores escalares simples como ${metros\\_por\\_segundo} = 5026$.\n",
    "\n",
    "Una lista de N números también puede representar las coordenadas de un punto en un espacio N-dimensional, por lo que es bastante frecuente representar los vectores como simples puntos en lugar de flechas. Un vector con 1 elemento puede representarse como una flecha o un punto en un eje, un vector con 2 elementos es una flecha o un punto en un plano, un vector con 3 elementos es una flecha o un punto en el espacio y un vector con N elementos es una flecha o un punto en un espacio de N dimensiones... que a la mayoría de la gente le cuesta imaginar.\n",
    "\n",
    "\n",
    "##  Propósito\n",
    "Los vectores tienen muchos propósitos en el aprendizaje automático, sobre todo para representar observaciones y predicciones. Por ejemplo, supongamos que construimos un sistema de aprendizaje automático para clasificar videos en 3 categorías (bueno, spam, clickbait) según lo que sabemos sobre ellos. Para cada video, tendríamos un vector que representa lo que sabemos sobre él, como:\n",
    "\n",
    "**video** $= \\begin{pmatrix}\n",
    "10.5 \\\\\n",
    "5.2 \\\\\n",
    "3.25 \\\\\n",
    "7.0\n",
    "\\end{pmatrix}$\n",
    "\n",
    "Este vector podría representar un video que dura 10,5 minutos, pero solo el 5,2% de los espectadores miran más de un minuto, obtiene un promedio de 3,25 vistas por día y se marcó 7 veces como spam. Como puede ver, cada eje puede tener un significado diferente.\n",
    "\n",
    "Según este vector, nuestro sistema de aprendizaje automático puede predecir que existe un 80 % de probabilidad de que sea un video no deseado, un 18 % de que sea clickbait y un 2 % de que sea un buen video. Esto podría representarse como el siguiente vector:\n",
    "\n",
    "**probabilidades_de_clase** $= \\begin{pmatrix}\n",
    "0,80 \\\\\n",
    "0.18 \\\\\n",
    "0.02\n",
    "\\end{pmatrix}$"
   ]
  },
  {
   "cell_type": "markdown",
   "metadata": {
    "id": "q234zjztS5wA"
   },
   "source": [
    "## Vectores en python\n",
    "En python, un vector se puede representar de muchas maneras, la más simple es una lista de números de python normal:"
   ]
  },
  {
   "cell_type": "code",
   "execution_count": 19,
   "metadata": {
    "id": "sKTgZWz-S5wB",
    "outputId": "44a79c50-6f17-4101-dd62-08a5fe015a92"
   },
   "outputs": [
    {
     "data": {
      "text/plain": [
       "[10.5, 5.2, 3.25, 7.0]"
      ]
     },
     "execution_count": 19,
     "metadata": {},
     "output_type": "execute_result"
    }
   ],
   "source": [
    "[10.5, 5.2, 3.25, 7.0]"
   ]
  },
  {
   "cell_type": "markdown",
   "metadata": {
    "id": "42BB_kg0S5wC"
   },
   "source": [
    "Dado que planeamos hacer una gran cantidad de cálculos científicos, es mucho mejor usar `ndarray` de NumPy, que proporciona muchas implementaciones convenientes y optimizadas de operaciones matemáticas esenciales en vectores (para obtener más detalles sobre NumPy, consulte [NumPy tutorial](tools_numpy.ipynb)). Por ejemplo:"
   ]
  },
  {
   "cell_type": "code",
   "execution_count": 20,
   "metadata": {
    "id": "OBVbMFXES5wC",
    "outputId": "21967011-a3dc-496c-c3e7-bbf695363ebe"
   },
   "outputs": [
    {
     "data": {
      "text/plain": [
       "array([10.5 ,  5.2 ,  3.25,  7.  ])"
      ]
     },
     "execution_count": 20,
     "metadata": {},
     "output_type": "execute_result"
    }
   ],
   "source": [
    "import numpy as np\n",
    "video = np.array([10.5, 5.2, 3.25, 7.0])\n",
    "video"
   ]
  },
  {
   "cell_type": "markdown",
   "metadata": {
    "id": "oqnDr6IlS5wD"
   },
   "source": [
    "El tamaño de un vector se puede obtener usando el atributo `size`:"
   ]
  },
  {
   "cell_type": "code",
   "execution_count": 21,
   "metadata": {
    "id": "308NH8-_S5wD",
    "outputId": "e652cba1-ef93-4ef6-8ed4-9d19b2869cf7"
   },
   "outputs": [
    {
     "data": {
      "text/plain": [
       "4"
      ]
     },
     "execution_count": 21,
     "metadata": {},
     "output_type": "execute_result"
    }
   ],
   "source": [
    "video.size"
   ]
  },
  {
   "cell_type": "markdown",
   "metadata": {
    "id": "1CDEXKzjS5wE"
   },
   "source": [
    "El iésimo elemento (en la posición i) de un vector $\\textbf{v}$ se anota como $\\textbf{v}_i$.\n",
    "\n",
    "Tenga en cuenta que los índices en matemáticas generalmente comienzan en 1, pero en programación generalmente comienzan en 0. Entonces, para acceder a $\\textbf{video}_3$ programáticamente, escribiríamos:"
   ]
  },
  {
   "cell_type": "code",
   "execution_count": 22,
   "metadata": {
    "id": "4_9CrLKnS5wE",
    "outputId": "41b44d45-9f13-470b-dca2-2b2d3d13a705"
   },
   "outputs": [
    {
     "data": {
      "text/plain": [
       "3.25"
      ]
     },
     "execution_count": 22,
     "metadata": {},
     "output_type": "execute_result"
    }
   ],
   "source": [
    "video[2]  # 3rd element"
   ]
  },
  {
   "cell_type": "markdown",
   "metadata": {
    "id": "LXjSQUizS5wE"
   },
   "source": [
    "## Graficar vectores\n",
    "Para graficar vectores usaremos matplotlib, así que comencemos importándolo (para obtener detalles sobre matplotlib, consulte el [tutorial de matplotlib](tools_matplotlib.ipynb)):"
   ]
  },
  {
   "cell_type": "code",
   "execution_count": 23,
   "metadata": {
    "id": "5QLUmSOGS5wF"
   },
   "outputs": [],
   "source": [
    "%matplotlib inline\n",
    "import matplotlib.pyplot as plt"
   ]
  },
  {
   "cell_type": "markdown",
   "metadata": {
    "id": "r8zP68JRS5wF"
   },
   "source": [
    "### Vectores 2D\n",
    "Vamos a crear un par de vectores 2D muy simples para graficar:"
   ]
  },
  {
   "cell_type": "code",
   "execution_count": 24,
   "metadata": {
    "id": "tNL_hdPJS5wF",
    "jupyter": {
     "outputs_hidden": true
    }
   },
   "outputs": [],
   "source": [
    "u = np.array([2, 5])\n",
    "v = np.array([3, 1])"
   ]
  },
  {
   "cell_type": "markdown",
   "metadata": {
    "id": "0vx0U4lJS5wF"
   },
   "source": [
    "Cada uno de estos vectores tiene 2 elementos, por lo que se pueden representar gráficamente fácilmente en un gráfico 2D, por ejemplo, como puntos:"
   ]
  },
  {
   "cell_type": "code",
   "execution_count": 25,
   "metadata": {
    "id": "XmYPBNitS5wG",
    "outputId": "5919a730-a9d6-4084-c894-905c41561709"
   },
   "outputs": [
    {
     "data": {
      "image/png": "[encoded data removed]",
      "text/plain": [
       "<Figure size 432x288 with 1 Axes>"
      ]
     },
     "metadata": {
      "needs_background": "light"
     },
     "output_type": "display_data"
    }
   ],
   "source": [
    "x_coords, y_coords = zip(u, v)\n",
    "plt.scatter(x_coords, y_coords, color=[\"r\",\"b\"])\n",
    "plt.axis([0, 9, 0, 6])\n",
    "plt.grid()\n",
    "plt.show()"
   ]
  },
  {
   "cell_type": "markdown",
   "metadata": {
    "id": "0TZWbtknS5wG"
   },
   "source": [
    "Los vectores también se pueden representar como flechas. Vamos a crear una pequeña función de conveniencia para dibujar  flechas bonitas:"
   ]
  },
  {
   "cell_type": "code",
   "execution_count": 26,
   "metadata": {
    "id": "N7fSlP8qS5wG"
   },
   "outputs": [],
   "source": [
    "def plot_vector2d(vector2d, origin=[0, 0], **options):\n",
    "    return plt.arrow(origin[0], origin[1], vector2d[0], vector2d[1],\n",
    "              head_width=0.2, head_length=0.3, length_includes_head=True,\n",
    "              **options)"
   ]
  },
  {
   "cell_type": "markdown",
   "metadata": {
    "id": "quXw49sTS5wG"
   },
   "source": [
    "Ahora dibujemos los vectores **u** y **v** como flechas:"
   ]
  },
  {
   "cell_type": "code",
   "execution_count": 27,
   "metadata": {
    "id": "ARgRV8MxS5wG",
    "outputId": "34a81ee2-da1b-452f-cf52-2ffce296ea7f"
   },
   "outputs": [
    {
     "data": {
      "image/png": "[encoded data removed]",
      "text/plain": [
       "<Figure size 432x288 with 1 Axes>"
      ]
     },
     "metadata": {
      "needs_background": "light"
     },
     "output_type": "display_data"
    }
   ],
   "source": [
    "plot_vector2d(u, color=\"r\")\n",
    "plot_vector2d(v, color=\"b\")\n",
    "plt.axis([0, 9, 0, 6])\n",
    "plt.grid()\n",
    "plt.show()"
   ]
  },
  {
   "cell_type": "markdown",
   "metadata": {
    "id": "wqnA1JbgS5wH"
   },
   "source": [
    "### Vectores 3D\n",
    "Dibujar vectores 3D también es relativamente sencillo. Primero vamos a crear dos vectores 3D:"
   ]
  },
  {
   "cell_type": "code",
   "execution_count": 28,
   "metadata": {
    "id": "1CnGuQ9HS5wH"
   },
   "outputs": [],
   "source": [
    "a = np.array([1, 2, 8])\n",
    "b = np.array([5, 6, 3])"
   ]
  },
  {
   "cell_type": "markdown",
   "metadata": {
    "id": "fgfllQaTS5wH"
   },
   "source": [
    "Ahora vamos a trazarlos usando `Axes3D` de matplotlib:"
   ]
  },
  {
   "cell_type": "code",
   "execution_count": 29,
   "metadata": {
    "id": "nbznpYuNS5wH",
    "outputId": "3db57385-0672-4ec5-ba91-714ccac913fa"
   },
   "outputs": [
    {
     "data": {
      "image/png": "[encoded data removed]",
      "text/plain": [
       "<Figure size 432x288 with 1 Axes>"
      ]
     },
     "metadata": {
      "needs_background": "light"
     },
     "output_type": "display_data"
    }
   ],
   "source": [
    "from mpl_toolkits.mplot3d import Axes3D\n",
    "\n",
    "subplot3d = plt.subplot(111, projection='3d')\n",
    "x_coords, y_coords, z_coords = zip(a,b)\n",
    "subplot3d.scatter(x_coords, y_coords, z_coords)\n",
    "subplot3d.set_zlim3d([0, 9])\n",
    "plt.show()"
   ]
  },
  {
   "cell_type": "markdown",
   "metadata": {
    "id": "T8-6SlJlS5wH"
   },
   "source": [
    "Es un poco difícil visualizar exactamente dónde están estos dos puntos en el espacio, así que agreguemos algunas líneas verticales y horizontales. Crearemos una pequeña función de conveniencia para trazar una lista de vectores 3D con líneas verticales adjuntas:"
   ]
  },
  {
   "cell_type": "code",
   "execution_count": 30,
   "metadata": {
    "id": "ZRtmo8kYS5wH",
    "outputId": "ce79b4dc-ca6a-4959-c44a-204600bf2e76"
   },
   "outputs": [
    {
     "data": {
      "image/png": "[encoded data removed]",
      "text/plain": [
       "<Figure size 432x288 with 1 Axes>"
      ]
     },
     "metadata": {
      "needs_background": "light"
     },
     "output_type": "display_data"
    }
   ],
   "source": [
    "def plot_vectors3d(ax, vectors3d, z0, **options):\n",
    "    for v in vectors3d:\n",
    "        x, y, z = v\n",
    "        ax.plot([x,x], [y,y], [z0, z], color=\"gray\", linestyle='dotted', marker=\".\")\n",
    "        ax.plot([0,x], [y,y], [z, z], color=\"gray\", linestyle='dotted', marker=\".\")\n",
    "    x_coords, y_coords, z_coords = zip(*vectors3d)\n",
    "    ax.scatter(x_coords, y_coords, z_coords, **options)\n",
    "\n",
    "subplot3d = plt.subplot(111, projection='3d')\n",
    "subplot3d.set_zlim([0, 9])\n",
    "plot_vectors3d(subplot3d, [a,b], 0, color=(\"r\",\"b\"))\n",
    "plt.show()"
   ]
  },
  {
   "cell_type": "markdown",
   "metadata": {
    "id": "3INJiyXTS5wI"
   },
   "source": [
    "## Norma\n",
    "La norma de un vector $\\textbf{u}$, anotada $\\left \\Vert \\textbf{u} \\right \\|$, es una medida de la longitud (también conocida como la magnitud) de $\\textbf{u}$. Hay múltiples normas posibles, pero la más común (y la única que discutiremos aquí) es la norma euclidiana, que se define como:\n",
    "\n",
    "$\\left \\Vert \\textbf{u} \\right \\| = \\sqrt{\\sum_{i}{\\textbf{u}_i}^2}$\n",
    "\n",
    "Podríamos implementar esto fácilmente en Python puro, recordando que $\\sqrt x = x^{\\frac{1}{2}}$"
   ]
  },
  {
   "cell_type": "code",
   "execution_count": 31,
   "metadata": {
    "id": "tmiDJwpvS5wI",
    "outputId": "61f89bc3-dff9-4d04-e87e-e824893d8f9d"
   },
   "outputs": [
    {
     "name": "stdout",
     "output_type": "stream",
     "text": [
      "|| [2 5] || =\n"
     ]
    },
    {
     "data": {
      "text/plain": [
       "5.385164807134504"
      ]
     },
     "execution_count": 31,
     "metadata": {},
     "output_type": "execute_result"
    }
   ],
   "source": [
    "def vector_norm(vector):\n",
    "    squares = [element**2 for element in vector]\n",
    "    return sum(squares)**0.5\n",
    "\n",
    "print(\"||\", u, \"|| =\")\n",
    "vector_norm(u)"
   ]
  },
  {
   "cell_type": "markdown",
   "metadata": {
    "id": "7d5HDO69S5wI"
   },
   "source": [
    "Sin embargo, es mucho más eficiente usar la función `norm` de NumPy, disponible en el módulo `linalg` (**Lin**ear **Alg**ebra):"
   ]
  },
  {
   "cell_type": "code",
   "execution_count": 32,
   "metadata": {
    "id": "2rKPrgYeS5wI",
    "outputId": "d054d4d4-cd28-412b-985c-92723282e604"
   },
   "outputs": [
    {
     "data": {
      "text/plain": [
       "5.385164807134504"
      ]
     },
     "execution_count": 32,
     "metadata": {},
     "output_type": "execute_result"
    }
   ],
   "source": [
    "import numpy.linalg as LA\n",
    "LA.norm(u)"
   ]
  },
  {
   "cell_type": "markdown",
   "metadata": {
    "id": "bqS3uvNWS5wI"
   },
   "source": [
    "Tracemos un pequeño diagrama para confirmar que la longitud del vector $\\textbf{v}$ es de hecho $\\approx5.4$:"
   ]
  },
  {
   "cell_type": "code",
   "execution_count": 49,
   "metadata": {
    "id": "ngmKaSLvS5wI",
    "outputId": "d80c9cf0-81b1-4857-ba2e-9414237e8f0f"
   },
   "outputs": [
    {
     "data": {
      "image/png": "[encoded data removed]",
      "text/plain": [
       "<Figure size 432x288 with 1 Axes>"
      ]
     },
     "metadata": {
      "needs_background": "light"
     },
     "output_type": "display_data"
    }
   ],
   "source": [
    "radius = LA.norm(u)\n",
    "plt.gca().add_artist(plt.Circle((0,0), radius, color=\"#DDDDDD\"))\n",
    "plot_vector2d(u, color=\"r\")\n",
    "plt.axis([0, 8.7, 0, 6])\n",
    "plt.grid()\n",
    "plt.show()"
   ]
  },
  {
   "cell_type": "markdown",
   "metadata": {
    "id": "5htTRsp-S5wJ"
   },
   "source": [
    "¡Se ve bien!"
   ]
  },
  {
   "cell_type": "markdown",
   "metadata": {
    "id": "sFLSgYNWS5wJ"
   },
   "source": [
    "## Adición\n",
    "Se pueden sumar vectores del mismo tamaño. La suma se realiza *elemento a elemento*:"
   ]
  },
  {
   "cell_type": "code",
   "execution_count": 53,
   "metadata": {
    "id": "8Zub25i9S5wJ",
    "outputId": "5851c3be-753f-4761-cf02-ada931a592b6"
   },
   "outputs": [
    {
     "name": "stdout",
     "output_type": "stream",
     "text": [
      "  [2 5]\n",
      "+ [3 1]\n",
      "+ [4 2]\n",
      "----------\n"
     ]
    },
    {
     "data": {
      "text/plain": [
       "array([9, 8])"
      ]
     },
     "execution_count": 53,
     "metadata": {},
     "output_type": "execute_result"
    }
   ],
   "source": [
    "w = np.array([4, 2])\n",
    "print(\" \", u)\n",
    "print(\"+\", v)\n",
    "print(\"+\", w)\n",
    "print(\"-\"*10)\n",
    "u + v + w"
   ]
  },
  {
   "cell_type": "markdown",
   "metadata": {
    "id": "L9IW4XBoS5wJ"
   },
   "source": [
    "Veamos cómo se ve gráficamente la suma de vectores:"
   ]
  },
  {
   "cell_type": "code",
   "execution_count": 51,
   "metadata": {
    "id": "Z0Dww3_0S5wJ",
    "outputId": "3b9ab861-c380-4fdb-9a60-f064444a6ea6",
    "scrolled": true
   },
   "outputs": [
    {
     "data": {
      "image/png": "[encoded data removed]",
      "text/plain": [
       "<Figure size 432x288 with 1 Axes>"
      ]
     },
     "metadata": {
      "needs_background": "light"
     },
     "output_type": "display_data"
    }
   ],
   "source": [
    "plot_vector2d(u, color=\"r\")\n",
    "plot_vector2d(v, color=\"b\")\n",
    "plot_vector2d(v, origin=u, color=\"b\", linestyle=\"dotted\")\n",
    "plot_vector2d(u, origin=v, color=\"r\", linestyle=\"dotted\")\n",
    "plot_vector2d(u+v, color=\"g\")\n",
    "plt.axis([0, 9, 0, 7])\n",
    "plt.text(0.7, 3, \"u\", color=\"r\", fontsize=18)\n",
    "plt.text(4, 3, \"u\", color=\"r\", fontsize=18)\n",
    "plt.text(1.8, 0.2, \"v\", color=\"b\", fontsize=18)\n",
    "plt.text(3.1, 5.6, \"v\", color=\"b\", fontsize=18)\n",
    "plt.text(2.4, 2.5, \"u+v\", color=\"g\", fontsize=18)\n",
    "plt.grid()\n",
    "plt.show()"
   ]
  },
  {
   "cell_type": "markdown",
   "metadata": {
    "id": "qeftM4OIS5wK"
   },
   "source": [
    "La suma de vectores es **conmutativa**, lo que significa que $\\textbf{u} + \\textbf{v} = \\textbf{v} + \\textbf{u}$. Puedes verlo en la imagen anterior: siguiendo $\\textbf{u}$ *luego* $\\textbf{v}$ lleva al mismo punto que siguiendo $\\textbf{v}$ *luego* $\\textbf{u} $\n",
    "\n",
    "La suma de vectores también es **asociativa**, lo que significa que $\\textbf{u} + (\\textbf{v} + \\textbf{w}) = (\\textbf{u} + \\textbf{v}) + \\textbf{ w}$."
   ]
  },
  {
   "cell_type": "markdown",
   "metadata": {
    "id": "1XoBRtl2S5wK"
   },
   "source": [
    "Si tiene un polígono definido por una cantidad de puntos (vectores) y suma un vector $\\textbf{v}$ a todos estos puntos, entonces todo el polígono se desplaza $\\textbf{v}$. Esto se llama [traslación geométrica](https://en.wikipedia.org/wiki/Translation_%28geometry%29):"
   ]
  },
  {
   "cell_type": "code",
   "execution_count": 56,
   "metadata": {
    "id": "Yyth8h2_S5wK",
    "outputId": "6e2487cd-35ab-4e00-9a6e-644778560d5e"
   },
   "outputs": [
    {
     "data": {
      "image/png": "[encoded data removed]",
      "text/plain": [
       "<Figure size 432x288 with 1 Axes>"
      ]
     },
     "metadata": {
      "needs_background": "light"
     },
     "output_type": "display_data"
    }
   ],
   "source": [
    "t1 = np.array([2, 0.25])\n",
    "t2 = np.array([2.5, 3.5])\n",
    "t3 = np.array([1, 2])\n",
    "\n",
    "x_coords, y_coords = zip(t1, t2, t3, t1)\n",
    "plt.plot(x_coords, y_coords, \"c--\", x_coords, y_coords, \"co\")\n",
    "\n",
    "plot_vector2d(v, t1, color=\"r\", linestyle=\":\")\n",
    "plot_vector2d(v, t2, color=\"r\", linestyle=\":\")\n",
    "plot_vector2d(v, t3, color=\"r\", linestyle=\":\")\n",
    "\n",
    "t1b = t1 + v\n",
    "t2b = t2 + v\n",
    "t3b = t3 + v\n",
    "\n",
    "x_coords_b, y_coords_b = zip(t1b, t2b, t3b, t1b)\n",
    "plt.plot(x_coords_b, y_coords_b, \"b-\", x_coords_b, y_coords_b, \"bo\")\n",
    "\n",
    "plt.text(4, 4.2, \"v\", color=\"r\", fontsize=18)\n",
    "plt.text(3, 2.3, \"v\", color=\"r\", fontsize=18)\n",
    "plt.text(3.5, 0.4, \"v\", color=\"r\", fontsize=18)\n",
    "\n",
    "plt.axis([0, 6, 0, 5])\n",
    "plt.grid()\n",
    "plt.show()"
   ]
  },
  {
   "cell_type": "markdown",
   "metadata": {
    "id": "Z65hu_VeS5wK"
   },
   "source": [
    "Finalmente, restar un vector es como sumar el vector opuesto."
   ]
  },
  {
   "cell_type": "code",
   "execution_count": 67,
   "metadata": {},
   "outputs": [
    {
     "data": {
      "image/png": "[encoded data removed]",
      "text/plain": [
       "<Figure size 432x288 with 1 Axes>"
      ]
     },
     "metadata": {
      "needs_background": "light"
     },
     "output_type": "display_data"
    }
   ],
   "source": [
    "plot_vector2d(w, color=\"r\")\n",
    "plot_vector2d(v, origin=w, color=\"b\", linestyle=\"dotted\")\n",
    "plot_vector2d(-v, origin=w, color=\"b\", linestyle=\"dotted\")\n",
    "plot_vector2d(w+v, color=\"g\")\n",
    "plot_vector2d(w-v, color=\"g\")\n",
    "plt.axis([0, 8, 0, 4])\n",
    "plt.text(1.6, 1, \"w\", color=\"r\", fontsize=18)\n",
    "plt.text(5, 2.5, \"v\", color=\"b\", fontsize=18)\n",
    "plt.text(2, 1.5, \"-v\", color=\"b\", fontsize=18)\n",
    "plt.text(4, 1.5, \"u+v\", color=\"g\", fontsize=18)\n",
    "plt.text(0.25, 0.5, \"u-v\", color=\"g\", fontsize=18)\n",
    "plt.grid()\n",
    "plt.show()"
   ]
  },
  {
   "cell_type": "markdown",
   "metadata": {
    "id": "VV9_0TmES5wK"
   },
   "source": [
    "## Multiplicación por un escalar\n",
    "Los vectores se pueden multiplicar por escalares. Todos los elementos del vector se multiplican por ese número, por ejemplo:"
   ]
  },
  {
   "cell_type": "code",
   "execution_count": 70,
   "metadata": {
    "id": "Y64b9vbmS5wK",
    "outputId": "6aa124dc-03e2-472a-daa1-e35449d719a5"
   },
   "outputs": [
    {
     "name": "stdout",
     "output_type": "stream",
     "text": [
      "1.5 * [2 5] = [3.  7.5]\n"
     ]
    }
   ],
   "source": [
    "result = 1.5 * u\n",
    "print(\"1.5 *\", u, \"=\", result)"
   ]
  },
  {
   "cell_type": "markdown",
   "metadata": {
    "id": "Dhk2zpPuS5wK"
   },
   "source": [
    "Gráficamente, la multiplicación por escalar da como resultado cambiar la escala de una figura, de ahí el nombre *escalar*. La distancia desde el origen (el punto en coordenadas iguales a cero) también se multiplica por el escalar. Por ejemplo, ampliemos la escala por un factor de `k = 2.5`:"
   ]
  },
  {
   "cell_type": "code",
   "execution_count": null,
   "metadata": {
    "id": "LUQ_8uagS5wK",
    "outputId": "666ca0e4-eb34-46c1-a654-b2e97e11dffd"
   },
   "outputs": [
    {
     "data": {
      "image/png": "[encoded data removed]",
      "text/plain": [
       "<matplotlib.figure.Figure at 0x7f6e32d3f0f0>"
      ]
     },
     "metadata": {},
     "output_type": "display_data"
    }
   ],
   "source": [
    "k = 2.5\n",
    "t1c = k * t1\n",
    "t2c = k * t2\n",
    "t3c = k * t3\n",
    "\n",
    "plt.plot(x_coords, y_coords, \"c--\", x_coords, y_coords, \"co\")\n",
    "\n",
    "plot_vector2d(t1, color=\"r\")\n",
    "plot_vector2d(t2, color=\"r\")\n",
    "plot_vector2d(t3, color=\"r\")\n",
    "\n",
    "x_coords_c, y_coords_c = zip(t1c, t2c, t3c, t1c)\n",
    "plt.plot(x_coords_c, y_coords_c, \"b-\", x_coords_c, y_coords_c, \"bo\")\n",
    "\n",
    "plot_vector2d(k * t1, color=\"b\", linestyle=\":\")\n",
    "plot_vector2d(k * t2, color=\"b\", linestyle=\":\")\n",
    "plot_vector2d(k * t3, color=\"b\", linestyle=\":\")\n",
    "\n",
    "plt.axis([0, 9, 0, 9])\n",
    "plt.grid()\n",
    "plt.show()"
   ]
  },
  {
   "cell_type": "markdown",
   "metadata": {
    "id": "deNJkwqMS5wL"
   },
   "source": [
    "Como puedes suponer, dividir un vector por un escalar es equivalente a multiplicar por su inverso multiplicativo:\n",
    "$\\dfrac{\\textbf{u}}{\\lambda} = \\dfrac{1}{\\lambda} \\times \\textbf{u}$"
   ]
  },
  {
   "cell_type": "markdown",
   "metadata": {
    "id": "SGSnzZvhS5wL"
   },
   "source": [
    "La multiplicación por escalar es **conmutativa**: $\\lambda \\times \\textbf{u} = \\textbf{u} \\times \\lambda$.\n",
    "\n",
    "También es **asociativa**: $\\lambda_1 \\times (\\lambda_2 \\times \\textbf{u}) = (\\lambda_1 \\times \\lambda_2) \\times \\textbf{u}$.\n",
    "\n",
    "Finalmente, es **distributiva** sobre la suma de vectores: $\\lambda \\times (\\textbf{u} + \\textbf{v}) = \\lambda \\times \\textbf{u} + \\lambda \\times \\textbf{ v}$."
   ]
  },
  {
   "cell_type": "markdown",
   "metadata": {
    "id": "1GOF6azwS5wL"
   },
   "source": [
    "## Vectores nulos, unitarios y normalizados\n",
    "* Un **vector nulo** es un vector lleno de ceros.\n",
    "* Un **vector unitario** es un vector con una norma igual a 1.\n",
    "* El **vector normalizado** de un vector no nulo $\\textbf{u}$, anotado $\\hat{\\textbf{u}}$, es el vector unitario que apunta en la misma dirección que $\\textbf{u}$. Es igual a: $\\hat{\\textbf{u}} = \\dfrac{\\textbf{u}}{\\left \\Vert \\textbf{u} \\right \\|}$\n",
    "\n"
   ]
  },
  {
   "cell_type": "code",
   "execution_count": 71,
   "metadata": {
    "id": "RryQqxSjS5wL",
    "outputId": "0806bfb9-bcad-40bb-eb98-66d097a39c51"
   },
   "outputs": [
    {
     "data": {
      "image/png": "[encoded data removed]",
      "text/plain": [
       "<Figure size 432x288 with 1 Axes>"
      ]
     },
     "metadata": {
      "needs_background": "light"
     },
     "output_type": "display_data"
    }
   ],
   "source": [
    "plt.gca().add_artist(plt.Circle((0,0),1,color='c'))\n",
    "plt.plot(0, 0, \"ko\")\n",
    "plot_vector2d(v / LA.norm(v), color=\"k\")\n",
    "plot_vector2d(v, color=\"b\", linestyle=\":\")\n",
    "plt.text(0.3, 0.3, \"$\\hat{u}$\", color=\"k\", fontsize=18)\n",
    "plt.text(1.5, 0.7, \"$u$\", color=\"b\", fontsize=18)\n",
    "plt.axis([-1.5, 5.5, -1.5, 3.5])\n",
    "plt.grid()\n",
    "plt.show()"
   ]
  },
  {
   "cell_type": "markdown",
   "metadata": {
    "id": "sGb9q3FDS5wL"
   },
   "source": [
    "## Producto escalar\n",
    "### Definición\n",
    "El producto punto (también llamado *producto escalar*) de dos vectores $\\textbf{u}$ y $\\textbf{v}$ es una operación útil que surge con bastante frecuencia en álgebra lineal. Se anota $\\textbf{u} \\cdot \\textbf{v}$, o a veces $⟨\\textbf{u}|\\textbf{v}⟩$ o $(\\textbf{u}|\\textbf{v}) $, y se define como:\n",
    "\n",
    "$\\textbf{u} \\cdot \\textbf{v} = \\left \\Vert \\textbf{u} \\right \\| \\times \\left \\Vert \\textbf{v} \\right \\| \\times cos(\\theta)$\n",
    "\n",
    "donde $\\theta$ es el ángulo entre $\\textbf{u}$ y $\\textbf{v}$.\n",
    "\n",
    "Otra forma de calcular el producto escalar es:\n",
    "\n",
    "$\\textbf{u} \\cdot \\textbf{v} = \\sum_i{\\textbf{u}_i \\times \\textbf{v}_i}$\n",
    "\n",
    "### En python\n",
    "El producto punto es bastante simple de implementar:"
   ]
  },
  {
   "cell_type": "code",
   "execution_count": 72,
   "metadata": {
    "id": "uwUzAAILS5wL",
    "outputId": "9d25cf97-8bd2-42ac-8305-61076150a439"
   },
   "outputs": [
    {
     "data": {
      "text/plain": [
       "11"
      ]
     },
     "execution_count": 72,
     "metadata": {},
     "output_type": "execute_result"
    }
   ],
   "source": [
    "def dot_product(v1, v2):\n",
    "    return sum(v1i * v2i for v1i, v2i in zip(v1, v2))\n",
    "\n",
    "dot_product(u, v)"
   ]
  },
  {
   "cell_type": "markdown",
   "metadata": {
    "id": "6vBpWCBmS5wL"
   },
   "source": [
    "Pero NumPy proporciona una implementación *mucho* más eficiente con la función `dot`:"
   ]
  },
  {
   "cell_type": "code",
   "execution_count": 73,
   "metadata": {
    "id": "PcALBxzKS5wM",
    "outputId": "7861996b-1dcf-4c6d-ee03-89818f96330f"
   },
   "outputs": [
    {
     "data": {
      "text/plain": [
       "11"
      ]
     },
     "execution_count": 73,
     "metadata": {},
     "output_type": "execute_result"
    }
   ],
   "source": [
    "np.dot(u,v)"
   ]
  },
  {
   "cell_type": "markdown",
   "metadata": {
    "id": "SGRhTP6VS5wM"
   },
   "source": [
    "De manera equivalente, puede usar el método `dot` de `ndarray`s:"
   ]
  },
  {
   "cell_type": "code",
   "execution_count": 74,
   "metadata": {
    "id": "TsqNjRxGS5wM",
    "outputId": "14f06064-fd52-4d39-d776-76e56fff1ec2"
   },
   "outputs": [
    {
     "data": {
      "text/plain": [
       "11"
      ]
     },
     "execution_count": 74,
     "metadata": {},
     "output_type": "execute_result"
    }
   ],
   "source": [
    "u.dot(v)"
   ]
  },
  {
   "cell_type": "markdown",
   "metadata": {
    "id": "A8aX-UsrS5wM"
   },
   "source": [
    "**Precaución**: el operador `*` realizará una multiplicación *elemento a elemento*, *NO* un producto escalar:"
   ]
  },
  {
   "cell_type": "code",
   "execution_count": 75,
   "metadata": {
    "id": "TIlFy4GCS5wM",
    "outputId": "fd2c5ceb-6fb6-4f4e-a4e0-b366f06d0bec"
   },
   "outputs": [
    {
     "name": "stdout",
     "output_type": "stream",
     "text": [
      "   [2 5]\n",
      "*  [3 1] (NOT a dot product)\n",
      "----------\n"
     ]
    },
    {
     "data": {
      "text/plain": [
       "array([6, 5])"
      ]
     },
     "execution_count": 75,
     "metadata": {},
     "output_type": "execute_result"
    }
   ],
   "source": [
    "print(\"  \",u)\n",
    "print(\"* \",v, \"(NOT a dot product)\")\n",
    "print(\"-\"*10)\n",
    "\n",
    "u * v"
   ]
  },
  {
   "cell_type": "markdown",
   "metadata": {
    "id": "EsY3kdlfS5wM"
   },
   "source": [
    "### Propiedades principales\n",
    "* El producto escalar es **conmutativo**: $\\textbf{u} \\cdot \\textbf{v} = \\textbf{v} \\cdot \\textbf{u}$.\n",
    "* El producto escalar solo se define entre dos vectores, no entre un escalar y un vector. Esto significa que no podemos encadenar productos punto: por ejemplo, la expresión $\\textbf{u} \\cdot \\textbf{v} \\cdot \\textbf{w}$ no está definida ya que $\\textbf{u} \\cdot \\textbf{ v}$ es un escalar y $\\textbf{w}$ es un vector.\n",
    "* Esto también significa que el producto escalar **NO es asociativo**: $(\\textbf{u} \\cdot \\textbf{v}) \\cdot \\textbf{w} ≠ \\textbf{u} \\cdot (\\textbf{ v} \\cdot \\textbf{w})$ ya que ninguno está definido.\n",
    "* Sin embargo, el producto escalar es **asociativo con respecto a la multiplicación escalar**: $\\lambda \\times (\\textbf{u} \\cdot \\textbf{v}) = (\\lambda \\times \\textbf{u}) \\cdot \\textbf{v} = \\textbf{u} \\cdot (\\lambda \\times \\textbf{v})$\n",
    "* Finalmente, el producto escalar es **distributivo** sobre la suma de vectores: $\\textbf{u} \\cdot (\\textbf{v} + \\textbf{w}) = \\textbf{u} \\cdot \\textbf{v } + \\textbf{u} \\cdot \\textbf{w}$."
   ]
  },
  {
   "cell_type": "markdown",
   "metadata": {
    "id": "J9IxOp4iS5wM"
   },
   "source": [
    "### Cálculo del ángulo entre vectores\n",
    "Uno de los muchos usos del producto escalar es calcular el ángulo entre dos vectores no nulos. Mirando la definición del producto escalar, podemos deducir la siguiente fórmula:\n",
    "\n",
    "$\\theta = \\arccos{\\left ( \\dfrac{\\textbf{u} \\cdot \\textbf{v}}{\\left \\Vert \\textbf{u} \\right \\| \\times \\left \\Vert \\textbf{v } \\right \\|} \\right ) }$\n",
    "\n",
    "Tenga en cuenta que si $\\textbf{u} \\cdot \\textbf{v} = 0$, se sigue que $\\theta = \\dfrac{π}{2}$. En otras palabras, si el producto escalar de dos vectores no nulos es cero, significa que son ortogonales.\n",
    "\n",
    "Usemos esta fórmula para calcular el ángulo entre $\\textbf{u}$ y $\\textbf{v}$ (en radianes):"
   ]
  },
  {
   "cell_type": "code",
   "execution_count": null,
   "metadata": {
    "id": "6UxL3EgHS5wN",
    "outputId": "3d94e9fd-e1c6-4cf4-96ed-262751befeb4"
   },
   "outputs": [
    {
     "name": "stdout",
     "output_type": "stream",
     "text": [
      "Angle = 0.868539395286 radians\n",
      "      = 49.7636416907 degrees\n"
     ]
    }
   ],
   "source": [
    "def vector_angle(u, v):\n",
    "    cos_theta = u.dot(v) / LA.norm(u) / LA.norm(v)\n",
    "    return np.arccos(np.clip(cos_theta, -1, 1))\n",
    "\n",
    "theta = vector_angle(u, v)\n",
    "print(\"Angle =\", theta, \"radians\")\n",
    "print(\"      =\", theta * 180 / np.pi, \"degrees\")"
   ]
  },
  {
   "cell_type": "markdown",
   "metadata": {
    "id": "KWe94zWDS5wN"
   },
   "source": [
    "Nota: debido a pequeños errores de coma flotante, `cos_theta` puede estar ligeramente fuera del intervalo $[-1, 1]$, lo que haría que `arccos` fallara. Es por eso que recortamos el valor dentro del rango, usando la función `clip` de NumPy."
   ]
  },
  {
   "cell_type": "markdown",
   "metadata": {
    "id": "McTFhIa2S5wN"
   },
   "source": [
    "### Proyectar un punto sobre un eje\n",
    "El producto escalar también es muy útil para proyectar puntos en un eje. La proyección del vector $\\textbf{v}$ sobre el eje de $\\textbf{u}$ viene dada por esta fórmula:\n",
    "\n",
    "$\\textbf{proj}_{\\textbf{u}}{\\textbf{v}} = \\dfrac{\\textbf{u} \\cdot \\textbf{v}}{\\left \\Vert \\textbf{u} \\right \\| ^2} \\times \\textbf{u}$\n",
    "\n",
    "Lo cual es equivalente a:\n",
    "\n",
    "$\\textbf{proj}_{\\textbf{u}}{\\textbf{v}} = (\\textbf{v} \\cdot \\hat{\\textbf{u}}) \\times \\hat{\\textbf{u}}$\n"
   ]
  },
  {
   "cell_type": "code",
   "execution_count": null,
   "metadata": {
    "id": "1USfTpAgS5wN",
    "outputId": "44f7841a-8119-49d5-d4a6-8d5e886da278"
   },
   "outputs": [
    {
     "data": {
      "image/png": "[encoded data removed]",
      "text/plain": [
       "<matplotlib.figure.Figure at 0x7f6e32c344e0>"
      ]
     },
     "metadata": {},
     "output_type": "display_data"
    }
   ],
   "source": [
    "u_normalized = u / LA.norm(u)\n",
    "proj = v.dot(u_normalized) * u_normalized\n",
    "\n",
    "plot_vector2d(u, color=\"r\")\n",
    "plot_vector2d(v, color=\"b\")\n",
    "\n",
    "plot_vector2d(proj, color=\"k\", linestyle=\":\")\n",
    "plt.plot(proj[0], proj[1], \"ko\")\n",
    "\n",
    "plt.plot([proj[0], v[0]], [proj[1], v[1]], \"b:\")\n",
    "\n",
    "plt.text(1, 2, \"$proj_u v$\", color=\"k\", fontsize=18)\n",
    "plt.text(1.8, 0.2, \"$v$\", color=\"b\", fontsize=18)\n",
    "plt.text(0.8, 3, \"$u$\", color=\"r\", fontsize=18)\n",
    "\n",
    "plt.axis([0, 8, 0, 5.5])\n",
    "plt.grid()\n",
    "plt.show()"
   ]
  }
 ],
 "metadata": {
  "colab": {
   "name": "math_linear_algebra.ipynb",
   "provenance": []
  },
  "kernelspec": {
   "display_name": "Python 3",
   "language": "python",
   "name": "python3"
  },
  "language_info": {
   "codemirror_mode": {
    "name": "ipython",
    "version": 3
   },
   "file_extension": ".py",
   "mimetype": "text/x-python",
   "name": "python",
   "nbconvert_exporter": "python",
   "pygments_lexer": "ipython3",
   "version": "3.8.8"
  },
  "toc": {
   "toc_cell": false,
   "toc_number_sections": true,
   "toc_threshold": 6,
   "toc_window_display": false
  }
 },
 "nbformat": 4,
 "nbformat_minor": 1
}
